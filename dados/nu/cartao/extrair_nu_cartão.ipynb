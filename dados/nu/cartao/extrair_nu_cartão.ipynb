{
 "cells": [
  {
   "cell_type": "markdown",
   "id": "0f4fdcf2",
   "metadata": {},
   "source": [
    "# 1. Importar bibliotecas\n"
   ]
  },
  {
   "cell_type": "code",
   "execution_count": 1,
   "id": "40ed11c9",
   "metadata": {},
   "outputs": [],
   "source": [
    "\n",
    "import os\n",
    "import re\n",
    "import pandas as pd\n",
    "import pdfplumber\n",
    "from datetime import datetime\n",
    "import logging\n",
    "import shutil\n",
    "import time\n"
   ]
  },
  {
   "cell_type": "markdown",
   "id": "4dcdd76b",
   "metadata": {},
   "source": [
    "Suprime o warning \"CropBox missing from /Page\""
   ]
  },
  {
   "cell_type": "code",
   "execution_count": 19,
   "id": "f7c6f76b",
   "metadata": {},
   "outputs": [],
   "source": [
    "logging.getLogger('pdfminer').setLevel(logging.ERROR)"
   ]
  },
  {
   "cell_type": "markdown",
   "id": "960b19bb",
   "metadata": {},
   "source": [
    "# 2. Definir o diretório de trabalho e nome do arquivo de saída"
   ]
  },
  {
   "cell_type": "markdown",
   "id": "70ea35d9",
   "metadata": {},
   "source": [
    "Define o diretório atual onde estão os arquivos PDF"
   ]
  },
  {
   "cell_type": "code",
   "execution_count": 20,
   "id": "2e694390",
   "metadata": {},
   "outputs": [],
   "source": [
    "pasta_pdf = os.getcwd()"
   ]
  },
  {
   "cell_type": "markdown",
   "id": "5b8a67d1",
   "metadata": {},
   "source": [
    "Define o nome do arquivo de saída Excel"
   ]
  },
  {
   "cell_type": "code",
   "execution_count": 21,
   "id": "26341cf3",
   "metadata": {},
   "outputs": [],
   "source": [
    "arquivo_saida = os.path.join(pasta_pdf, 'extrato_nu_cartao.xlsx')"
   ]
  },
  {
   "cell_type": "markdown",
   "id": "16b33c07",
   "metadata": {},
   "source": [
    "# 3. Criar um backup do arquivo existente (se houver)\n"
   ]
  },
  {
   "cell_type": "code",
   "execution_count": 25,
   "id": "1823327b",
   "metadata": {},
   "outputs": [
    {
     "name": "stdout",
     "output_type": "stream",
     "text": [
      "Backup criado: c:\\Users\\rodri\\OneDrive\\Documentos\\GitHub\\Minhas-Finanças\\dados\\nu\\cartao\\extrato_nu_cartao_backup 2025.07.12 - 20.26.12.xlsx\n"
     ]
    }
   ],
   "source": [
    "if os.path.exists(arquivo_saida):\n",
    "    backup_path = arquivo_saida.replace('.xlsx', f'_backup {datetime.now().strftime(\"%Y.%m.%d - %H.%M.%S\")}.xlsx')\n",
    "    shutil.copy(arquivo_saida, backup_path)\n",
    "    print(f'Backup criado: {backup_path}')\n"
   ]
  },
  {
   "cell_type": "markdown",
   "id": "bcd8bab8",
   "metadata": {},
   "source": [
    "\n",
    "# 4. Carregar dados existentes e identificar competências já importadas\n"
   ]
  },
  {
   "cell_type": "code",
   "execution_count": 26,
   "id": "d941c6ec",
   "metadata": {},
   "outputs": [],
   "source": [
    "if os.path.exists(arquivo_saida):\n",
    "    df_existente = pd.read_excel(arquivo_saida)\n",
    "    competencias_existentes = set(df_existente['Competência'].unique())\n",
    "else:\n",
    "    df_existente = pd.DataFrame()\n",
    "    competencias_existentes = set()\n"
   ]
  },
  {
   "cell_type": "markdown",
   "id": "09f2b0d4",
   "metadata": {},
   "source": [
    "Exibir arquivo existente"
   ]
  },
  {
   "cell_type": "code",
   "execution_count": 27,
   "id": "ee43113d",
   "metadata": {},
   "outputs": [
    {
     "name": "stdout",
     "output_type": "stream",
     "text": [
      "        Data Competência              Descrição Receita/Despesa  Valor\n",
      "0 2022-01-07     2022-02    Pagamento em 07 JAN         Despesa  20.04\n",
      "1 2022-01-08     2022-02       Htm*Mepoupe1real         Despesa   1.00\n",
      "2 2022-01-08     2022-02           Pag*Acailand         Despesa  19.04\n",
      "3 2022-01-14     2022-02  Farmacias Pague Menos         Despesa  21.70\n",
      "4 2022-01-18     2022-02           Uhuu *785483         Despesa  80.50\n"
     ]
    }
   ],
   "source": [
    "if not df_existente.empty:\n",
    "    print(df_existente.head())"
   ]
  },
  {
   "cell_type": "markdown",
   "id": "6b739b43",
   "metadata": {},
   "source": [
    "\n",
    "# 5. Inicializar a extração de dados\n"
   ]
  },
  {
   "cell_type": "markdown",
   "id": "985345b1",
   "metadata": {},
   "source": [
    "Dataframe para gravar dados"
   ]
  },
  {
   "cell_type": "code",
   "execution_count": 28,
   "id": "66e72f53",
   "metadata": {},
   "outputs": [],
   "source": [
    "todos_dados = []"
   ]
  },
  {
   "cell_type": "markdown",
   "id": "d8c7feec",
   "metadata": {},
   "source": [
    "Mapeamento de meses abreviados para números"
   ]
  },
  {
   "cell_type": "code",
   "execution_count": 29,
   "id": "444446b3",
   "metadata": {},
   "outputs": [],
   "source": [
    "meses = {\n",
    "    'JAN': '01', 'FEV': '02', 'MAR': '03', 'ABR': '04',\n",
    "    'MAI': '05', 'JUN': '06', 'JUL': '07', 'AGO': '08',\n",
    "    'SET': '09', 'OUT': '10', 'NOV': '11', 'DEZ': '12'\n",
    "}"
   ]
  },
  {
   "cell_type": "markdown",
   "id": "eb24ed1c",
   "metadata": {},
   "source": [
    "Expressão regular para identificar linhas de transações"
   ]
  },
  {
   "cell_type": "code",
   "execution_count": 30,
   "id": "7765aaff",
   "metadata": {},
   "outputs": [],
   "source": [
    "padrao_linha = re.compile(r'^(\\d{2})\\s+([A-Z]{3})\\s+(.+?)\\s+([\\d.,\\s]+)$')"
   ]
  },
  {
   "cell_type": "markdown",
   "id": "7fb72b1c",
   "metadata": {},
   "source": [
    "# 6. Iterar sobre os arquivos PDF e extrair dados"
   ]
  },
  {
   "cell_type": "code",
   "execution_count": 31,
   "id": "d60a972f",
   "metadata": {},
   "outputs": [
    {
     "name": "stdout",
     "output_type": "stream",
     "text": [
      "Ignorado (já importado): Nubank_2022-02-09.pdf\n",
      "Ignorado (já importado): Nubank_2022-03-09.pdf\n",
      "Ignorado (já importado): Nubank_2022-04-09.pdf\n",
      "Ignorado (já importado): Nubank_2022-05-09.pdf\n",
      "Ignorado (já importado): Nubank_2022-06-09.pdf\n",
      "Ignorado (já importado): Nubank_2022-07-09.pdf\n",
      "Ignorado (já importado): Nubank_2022-08-09.pdf\n",
      "Ignorado (já importado): Nubank_2022-09-09.pdf\n",
      "Ignorado (já importado): Nubank_2022-10-09.pdf\n",
      "Ignorado (já importado): Nubank_2022-11-09.pdf\n",
      "Ignorado (já importado): Nubank_2022-12-09.pdf\n",
      "Ignorado (já importado): Nubank_2023-01-09.pdf\n",
      "Ignorado (já importado): Nubank_2023-02-09.pdf\n",
      "Ignorado (já importado): Nubank_2023-03-09.pdf\n",
      "Ignorado (já importado): Nubank_2023-04-09.pdf\n",
      "Ignorado (já importado): Nubank_2023-06-09.pdf\n",
      "Ignorado (já importado): Nubank_2023-07-09.pdf\n",
      "Ignorado (já importado): Nubank_2023-08-09.pdf\n",
      "Ignorado (já importado): Nubank_2023-09-09.pdf\n",
      "Ignorado (já importado): Nubank_2023-10-09.pdf\n",
      "Ignorado (já importado): Nubank_2023-11-09.pdf\n",
      "Ignorado (já importado): Nubank_2023-12-09.pdf\n",
      "Ignorado (já importado): Nubank_2024-01-09.pdf\n",
      "Ignorado (já importado): Nubank_2024-02-09.pdf\n",
      "Ignorado (já importado): Nubank_2024-03-09.pdf\n",
      "Ignorado (já importado): Nubank_2024-04-09.pdf\n",
      "Ignorado (já importado): Nubank_2024-05-09.pdf\n",
      "Ignorado (já importado): Nubank_2024-06-09.pdf\n",
      "Ignorado (já importado): Nubank_2024-07-09.pdf\n",
      "Ignorado (já importado): Nubank_2024-08-09.pdf\n",
      "Ignorado (já importado): Nubank_2024-09-09.pdf\n",
      "Ignorado (já importado): Nubank_2024-10-09.pdf\n",
      "Ignorado (já importado): Nubank_2024-11-09.pdf\n",
      "Ignorado (já importado): Nubank_2024-12-09.pdf\n",
      "Ignorado (já importado): Nubank_2025-01-09.pdf\n",
      "Ignorado (já importado): Nubank_2025-02-09.pdf\n",
      "Ignorado (já importado): Nubank_2025-03-09.pdf\n",
      "Ignorado (já importado): Nubank_2025-04-09.pdf\n",
      "Ignorado (já importado): Nubank_2025-05-09.pdf\n"
     ]
    }
   ],
   "source": [
    "for arquivo in os.listdir(pasta_pdf):\n",
    "\n",
    "    if arquivo.endswith('.pdf') and arquivo.startswith('Nubank_'):\n",
    "        match = re.search(r'Nubank_(\\d{4})[_-](\\d{2})', arquivo)\n",
    "        if not match:\n",
    "            print(f'Nome de arquivo inesperado: {arquivo}')\n",
    "            continue\n",
    "\n",
    "        ano, mes = match.groups()\n",
    "        competencia = f'{ano}-{mes}'\n",
    "\n",
    "        if competencia in competencias_existentes:\n",
    "            print(f'Ignorado (já importado): {arquivo}')\n",
    "            continue\n",
    "\n",
    "        caminho = os.path.join(pasta_pdf, arquivo)\n",
    "\n",
    "        with pdfplumber.open(caminho) as pdf:\n",
    "            comecar = False\n",
    "            for pagina in pdf.pages:\n",
    "                try:\n",
    "                    texto = pagina.extract_text()\n",
    "                except Exception:\n",
    "                    continue\n",
    "\n",
    "                if not texto:\n",
    "                    continue\n",
    "\n",
    "                linhas = texto.split('\\n')\n",
    "                for linha in linhas:\n",
    "                    if not comecar:\n",
    "                        if linha.startswith('TRANSAÇÕES DE '):\n",
    "                            comecar = True\n",
    "                        continue\n",
    "\n",
    "                    match = padrao_linha.match(linha.strip())\n",
    "                    if match:\n",
    "                        dia, mes_str, descricao, valor = match.groups()\n",
    "                        mes_num = meses.get(mes_str.upper())\n",
    "                        if not mes_num:\n",
    "                            continue\n",
    "\n",
    "                        data_str = f'{ano}-{mes_num}-{dia}'\n",
    "                        data_formatada = datetime.strptime(data_str, '%Y-%m-%d').date()\n",
    "                        valor_float = float(valor.replace('.', '').replace(',', '.').strip())\n",
    "                        descricao = descricao.strip()\n",
    "\n",
    "                        receita_keywords = ['Estorno de', 'Crédito de Confiança de', 'Pagamento recebido', 'Transferência recebida']\n",
    "                        tipo = 'Receita' if any(descricao.startswith(k) for k in receita_keywords) else 'Despesa'\n",
    "\n",
    "                        todos_dados.append({\n",
    "                            'Data': data_formatada,\n",
    "                            'Competência': competencia,\n",
    "                            'Descrição': descricao,\n",
    "                            'Receita/Despesa': tipo,\n",
    "                            'Valor': valor_float\n",
    "                        })\n",
    "        print(f'Processado: {arquivo}')\n"
   ]
  },
  {
   "cell_type": "markdown",
   "id": "537ad60a",
   "metadata": {},
   "source": [
    "# 7. Consolidar dados"
   ]
  },
  {
   "cell_type": "code",
   "execution_count": 32,
   "id": "cce7e55a",
   "metadata": {},
   "outputs": [
    {
     "name": "stdout",
     "output_type": "stream",
     "text": [
      "Nenhum novo dado foi importado.\n"
     ]
    }
   ],
   "source": [
    "if not todos_dados:\n",
    "    print('Nenhum novo dado foi importado.')\n",
    "else:\n",
    "    df_novos = pd.DataFrame(todos_dados)\n",
    "    df_novos = df_novos.sort_values(by='Data')\n",
    "\n",
    "    if not df_existente.empty:\n",
    "        df_final = pd.concat([df_existente, df_novos], ignore_index=True)\n",
    "    else:\n",
    "        df_final = df_novos\n",
    "\n",
    "    # Valores absolutos (positivos)\n",
    "    df_final['Valor'] = df_final['Valor'].abs()"
   ]
  },
  {
   "cell_type": "markdown",
   "id": "aa7817d6",
   "metadata": {},
   "source": [
    "Exibir dados processados"
   ]
  },
  {
   "cell_type": "code",
   "execution_count": 33,
   "id": "41198711",
   "metadata": {},
   "outputs": [
    {
     "name": "stdout",
     "output_type": "stream",
     "text": [
      "         Data Competência              Descrição Receita/Despesa  Valor\n",
      "0  2022-01-07     2022-02    Pagamento em 07 JAN         Despesa  20.04\n",
      "1  2022-01-08     2022-02       Htm*Mepoupe1real         Despesa   1.00\n",
      "2  2022-01-08     2022-02           Pag*Acailand         Despesa  19.04\n",
      "3  2022-01-14     2022-02  Farmacias Pague Menos         Despesa  21.70\n",
      "4  2022-01-18     2022-02           Uhuu *785483         Despesa  80.50\n"
     ]
    }
   ],
   "source": [
    "if not df_final.empty:\n",
    "    print(df_final.head())"
   ]
  },
  {
   "cell_type": "markdown",
   "id": "37fe8d90",
   "metadata": {},
   "source": [
    "# 8. Ordenar e Salvar Excel"
   ]
  },
  {
   "cell_type": "code",
   "execution_count": 34,
   "id": "f57ed168",
   "metadata": {},
   "outputs": [
    {
     "name": "stdout",
     "output_type": "stream",
     "text": [
      "Dados salvos em: c:\\Users\\rodri\\OneDrive\\Documentos\\GitHub\\Minhas-Finanças\\dados\\nu\\cartao\\extrato_nu_cartao.xlsx\n",
      "Total de registros no arquivo: 1412\n",
      "Novos registros adicionados: 1412\n"
     ]
    }
   ],
   "source": [
    "df_final = df_final.sort_values(by='Data')\n",
    "df_final.to_excel(arquivo_saida, index=False, sheet_name='Extrato')\n",
    "print(f'Dados salvos em: {arquivo_saida}')\n",
    "print(f'Total de registros no arquivo: {len(df_final)}')\n",
    "print(f'Novos registros adicionados: {len(df_novos)}')\n"
   ]
  }
 ],
 "metadata": {
  "kernelspec": {
   "display_name": "Python 3",
   "language": "python",
   "name": "python3"
  },
  "language": "python",
  "language_info": {
   "codemirror_mode": {
    "name": "ipython",
    "version": 3
   },
   "file_extension": ".py",
   "mimetype": "text/x-python",
   "name": "python",
   "nbconvert_exporter": "python",
   "pygments_lexer": "ipython3",
   "version": "3.12.4"
  }
 },
 "nbformat": 4,
 "nbformat_minor": 5
}
